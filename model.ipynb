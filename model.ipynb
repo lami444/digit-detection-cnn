{
 "cells": [
  {
   "cell_type": "code",
   "execution_count": null,
   "metadata": {
    "id": "iBOmlaAdCMLo"
   },
   "outputs": [],
   "source": [
    "# Pytorch\n",
    "# MNIST"
   ]
  },
  {
   "cell_type": "code",
   "execution_count": 3,
   "metadata": {
    "executionInfo": {
     "elapsed": 9537,
     "status": "ok",
     "timestamp": 1748539085858,
     "user": {
      "displayName": "Cogito Code",
      "userId": "04772578918302149533"
     },
     "user_tz": -330
    },
    "id": "AzRmwM1kCWnQ"
   },
   "outputs": [],
   "source": [
    "import torch\n",
    "import torch.nn as nn\n",
    "import torch.optim as optim\n",
    "from torchvision import datasets, transforms\n",
    "from torch.utils.data import DataLoader\n",
    "import matplotlib.pyplot as plt\n",
    "import numpy as np\n",
    "import torch.nn.functional as F"
   ]
  },
  {
   "cell_type": "code",
   "execution_count": 4,
   "metadata": {
    "executionInfo": {
     "elapsed": 47,
     "status": "ok",
     "timestamp": 1748539085946,
     "user": {
      "displayName": "Cogito Code",
      "userId": "04772578918302149533"
     },
     "user_tz": -330
    },
    "id": "whiaprSsDA1T"
   },
   "outputs": [],
   "source": [
    "device = torch.device(\"cuda\" if torch.cuda.is_available() else \"cpu\")"
   ]
  },
  {
   "cell_type": "code",
   "execution_count": 5,
   "metadata": {
    "colab": {
     "base_uri": "https://localhost:8080/"
    },
    "executionInfo": {
     "elapsed": 76,
     "status": "ok",
     "timestamp": 1748539086683,
     "user": {
      "displayName": "Cogito Code",
      "userId": "04772578918302149533"
     },
     "user_tz": -330
    },
    "id": "TMRo5MQ9DM0p",
    "outputId": "7143866a-8d99-4ef2-da47-8900b1bc1d73"
   },
   "outputs": [
    {
     "data": {
      "text/plain": [
       "device(type='cuda')"
      ]
     },
     "execution_count": 5,
     "metadata": {},
     "output_type": "execute_result"
    }
   ],
   "source": [
    "device"
   ]
  },
  {
   "cell_type": "code",
   "execution_count": 6,
   "metadata": {
    "colab": {
     "base_uri": "https://localhost:8080/"
    },
    "executionInfo": {
     "elapsed": 17613,
     "status": "ok",
     "timestamp": 1748539495838,
     "user": {
      "displayName": "Cogito Code",
      "userId": "04772578918302149533"
     },
     "user_tz": -330
    },
    "id": "UiQNe5b2DRW5",
    "outputId": "fd241da0-234c-4fef-e3b8-a08b88272a33"
   },
   "outputs": [
    {
     "name": "stderr",
     "output_type": "stream",
     "text": [
      "100%|██████████| 9.91M/9.91M [00:02<00:00, 4.47MB/s]\n",
      "100%|██████████| 28.9k/28.9k [00:00<00:00, 65.0kB/s]\n",
      "100%|██████████| 1.65M/1.65M [00:06<00:00, 246kB/s]\n",
      "100%|██████████| 4.54k/4.54k [00:00<00:00, 6.03MB/s]\n"
     ]
    }
   ],
   "source": [
    "from PIL import ImageOps\n",
    "\n",
    "class AutocontrastTransform():\n",
    "  def __call__(self, image):\n",
    "    return ImageOps.autocontrast(image)\n",
    "\n",
    "transform = transforms.Compose([\n",
    "    AutocontrastTransform(),\n",
    "    transforms.ToTensor()\n",
    "])\n",
    "\n",
    "train_dataset = datasets.MNIST(root='./data', train=True, download=True, transform=transform)\n",
    "test_dataset = datasets.MNIST(root='./data', train=False, download=True, transform=transform)\n",
    "\n",
    "\n",
    "train_loader = DataLoader(dataset=train_dataset, batch_size=64, shuffle=True)\n",
    "test_loader = DataLoader(dataset=test_dataset, batch_size=64, shuffle=False)"
   ]
  },
  {
   "cell_type": "code",
   "execution_count": 12,
   "metadata": {
    "executionInfo": {
     "elapsed": 75,
     "status": "ok",
     "timestamp": 1748539734292,
     "user": {
      "displayName": "Cogito Code",
      "userId": "04772578918302149533"
     },
     "user_tz": -330
    },
    "id": "2J6Ftm0CExAP"
   },
   "outputs": [],
   "source": [
    "images , labels = next(iter(train_loader))"
   ]
  },
  {
   "cell_type": "code",
   "execution_count": 9,
   "metadata": {
    "colab": {
     "base_uri": "https://localhost:8080/"
    },
    "executionInfo": {
     "elapsed": 38,
     "status": "ok",
     "timestamp": 1748539573471,
     "user": {
      "displayName": "Cogito Code",
      "userId": "04772578918302149533"
     },
     "user_tz": -330
    },
    "id": "r2GjfBdzFBIH",
    "outputId": "cae93bc7-5f67-4453-a17c-1b0ec2ded143"
   },
   "outputs": [
    {
     "data": {
      "text/plain": [
       "(torch.Size([64, 1, 28, 28]), torch.Size([64]))"
      ]
     },
     "execution_count": 9,
     "metadata": {},
     "output_type": "execute_result"
    }
   ],
   "source": [
    "images.shape , labels.shape\n"
   ]
  },
  {
   "cell_type": "code",
   "execution_count": 10,
   "metadata": {
    "colab": {
     "base_uri": "https://localhost:8080/"
    },
    "executionInfo": {
     "elapsed": 79,
     "status": "ok",
     "timestamp": 1748539677758,
     "user": {
      "displayName": "Cogito Code",
      "userId": "04772578918302149533"
     },
     "user_tz": -330
    },
    "id": "rOySEggOFfN1",
    "outputId": "9d1fd7b9-0903-4dea-972d-01ddfe3f3d2e"
   },
   "outputs": [
    {
     "data": {
      "text/plain": [
       "torch.Size([1, 28, 28])"
      ]
     },
     "execution_count": 10,
     "metadata": {},
     "output_type": "execute_result"
    }
   ],
   "source": [
    "images[0].shape"
   ]
  },
  {
   "cell_type": "code",
   "execution_count": 13,
   "metadata": {
    "colab": {
     "base_uri": "https://localhost:8080/",
     "height": 560
    },
    "executionInfo": {
     "elapsed": 1084,
     "status": "ok",
     "timestamp": 1748539741433,
     "user": {
      "displayName": "Cogito Code",
      "userId": "04772578918302149533"
     },
     "user_tz": -330
    },
    "id": "RhlOheOeFE7s",
    "outputId": "c5464f0a-be8e-4a7e-c603-cf990f1500f8"
   },
   "outputs": [
    {
     "data": {
      "image/png": "[encoded data removed]",
      "text/plain": [
       "<Figure size 1200x600 with 10 Axes>"
      ]
     },
     "metadata": {},
     "output_type": "display_data"
    }
   ],
   "source": [
    "plt.figure(figsize=(12 , 6))\n",
    "\n",
    "for i in range(10):\n",
    "  plt.subplot(2 , 5 , i+1)\n",
    "  plt.imshow(images[i].squeeze() , cmap='gray')\n",
    "  plt.title(f\"Label : {labels[i].item()}\")\n",
    "  plt.axis('off')\n",
    "\n",
    "plt.tight_layout()\n",
    "plt.show()"
   ]
  },
  {
   "cell_type": "code",
   "execution_count": null,
   "metadata": {
    "id": "1KXgWssZFr5Z"
   },
   "outputs": [],
   "source": []
  },
  {
   "cell_type": "code",
   "execution_count": 14,
   "metadata": {
    "executionInfo": {
     "elapsed": 53,
     "status": "ok",
     "timestamp": 1748540319586,
     "user": {
      "displayName": "Cogito Code",
      "userId": "04772578918302149533"
     },
     "user_tz": -330
    },
    "id": "98Xt2c91GkKD"
   },
   "outputs": [],
   "source": [
    "class MNISTClassifier(nn.Module):\n",
    "  def __init__(self):\n",
    "    super(MNISTClassifier , self).__init__()\n",
    "    self.conv1 = nn.Conv2d(1, 32 , kernel_size=3)\n",
    "    self.pool = nn.MaxPool2d(2,2)\n",
    "    self.conv2 = nn.Conv2d(32, 64 , kernel_size=3)\n",
    "    self.fc1 = nn.Linear(64*5*5 , 128)\n",
    "    self.fc2 = nn.Linear(128 , 10)\n",
    "\n",
    "  def forward(self , x):\n",
    "    x = self.pool(F.relu(self.conv1(x)))\n",
    "    x = self.pool(F.relu(self.conv2(x)))\n",
    "    x = x.view(-1 , 64*5*5)\n",
    "    x = F.relu(self.fc1(x))\n",
    "    x = self.fc2(x)\n",
    "    return x"
   ]
  },
  {
   "cell_type": "code",
   "execution_count": 15,
   "metadata": {
    "executionInfo": {
     "elapsed": 912,
     "status": "ok",
     "timestamp": 1748540347315,
     "user": {
      "displayName": "Cogito Code",
      "userId": "04772578918302149533"
     },
     "user_tz": -330
    },
    "id": "UfYbNC4dH-Y0"
   },
   "outputs": [],
   "source": [
    "model = MNISTClassifier().to(device)"
   ]
  },
  {
   "cell_type": "code",
   "execution_count": 16,
   "metadata": {
    "executionInfo": {
     "elapsed": 71,
     "status": "ok",
     "timestamp": 1748540398989,
     "user": {
      "displayName": "Cogito Code",
      "userId": "04772578918302149533"
     },
     "user_tz": -330
    },
    "id": "jV9-eC3pIE8y"
   },
   "outputs": [],
   "source": [
    "criterion = nn.CrossEntropyLoss()\n",
    "optimizer = torch.optim.Adam(model.parameters() , lr=0.001)"
   ]
  },
  {
   "cell_type": "code",
   "execution_count": 17,
   "metadata": {
    "colab": {
     "base_uri": "https://localhost:8080/"
    },
    "executionInfo": {
     "elapsed": 156941,
     "status": "ok",
     "timestamp": 1748540799513,
     "user": {
      "displayName": "Cogito Code",
      "userId": "04772578918302149533"
     },
     "user_tz": -330
    },
    "id": "BTkvomCEIRvl",
    "outputId": "68695ca8-364e-4c5a-a0b8-b4a3e1fc9b81"
   },
   "outputs": [
    {
     "name": "stdout",
     "output_type": "stream",
     "text": [
      "Epoch 1/10 , Loss : 0.18196502618659446\n",
      "Epoch 2/10 , Loss : 0.05406390383431533\n",
      "Epoch 3/10 , Loss : 0.03767645316264743\n",
      "Epoch 4/10 , Loss : 0.02792312663725775\n",
      "Epoch 5/10 , Loss : 0.021519643906210705\n",
      "Epoch 6/10 , Loss : 0.018445782013703386\n",
      "Epoch 7/10 , Loss : 0.013106075900901945\n",
      "Epoch 8/10 , Loss : 0.01074189459087065\n",
      "Epoch 9/10 , Loss : 0.00917483158586278\n",
      "Epoch 10/10 , Loss : 0.007599234960048355\n"
     ]
    }
   ],
   "source": [
    "epochs = 10\n",
    "for epoch in range(epochs):\n",
    "  running_loss = 0.0\n",
    "  model.train()\n",
    "  for i , (images , labels) in enumerate(train_loader):\n",
    "    images = images.to(device)\n",
    "    labels = labels.to(device)\n",
    "    optimizer.zero_grad()\n",
    "    outputs = model(images)\n",
    "    loss = criterion(outputs , labels)\n",
    "    loss.backward()\n",
    "    optimizer.step()\n",
    "    running_loss +=loss.item()\n",
    "  print(f\"Epoch {epoch+1}/{epochs} , Loss : {running_loss/len(train_loader)}\")"
   ]
  },
  {
   "cell_type": "code",
   "execution_count": 18,
   "metadata": {
    "colab": {
     "base_uri": "https://localhost:8080/"
    },
    "executionInfo": {
     "elapsed": 2943,
     "status": "ok",
     "timestamp": 1748540830466,
     "user": {
      "displayName": "Cogito Code",
      "userId": "04772578918302149533"
     },
     "user_tz": -330
    },
    "id": "IgkfRirOJNRb",
    "outputId": "67e17766-83de-41e0-a36f-28005d4d4b70"
   },
   "outputs": [
    {
     "name": "stdout",
     "output_type": "stream",
     "text": [
      "Test Accuracy : 99.14%\n"
     ]
    }
   ],
   "source": [
    "model.eval()\n",
    "correct = 0\n",
    "total = 0\n",
    "\n",
    "with torch.no_grad():\n",
    "  for images , labels in test_loader:\n",
    "    images = images.to(device)\n",
    "    labels = labels.to(device)\n",
    "    outputs = model(images)\n",
    "    _, predicted = torch.max(outputs.data , 1)\n",
    "    total += labels.size(0)\n",
    "    correct += (predicted == labels).sum().item()\n",
    "\n",
    "print(f\"Test Accuracy : {100*correct/total}%\")"
   ]
  },
  {
   "cell_type": "code",
   "execution_count": 19,
   "metadata": {
    "executionInfo": {
     "elapsed": 40,
     "status": "ok",
     "timestamp": 1748540885066,
     "user": {
      "displayName": "Cogito Code",
      "userId": "04772578918302149533"
     },
     "user_tz": -330
    },
    "id": "Y886qVBuJ6am"
   },
   "outputs": [],
   "source": [
    "torch.save(model , \"model.pt\")"
   ]
  },
  {
   "cell_type": "code",
   "execution_count": null,
   "metadata": {
    "id": "oU3rG51YKIdI"
   },
   "outputs": [],
   "source": []
  }
 ],
 "metadata": {
  "accelerator": "GPU",
  "colab": {
   "authorship_tag": "ABX9TyP73TeRRst3MfucyswrhAPN",
   "gpuType": "T4",
   "provenance": []
  },
  "kernelspec": {
   "display_name": "Python 3",
   "name": "python3"
  },
  "language_info": {
   "name": "python"
  }
 },
 "nbformat": 4,
 "nbformat_minor": 0
}
